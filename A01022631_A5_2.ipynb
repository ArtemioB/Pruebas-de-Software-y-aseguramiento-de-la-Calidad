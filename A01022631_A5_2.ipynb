{
  "nbformat": 4,
  "nbformat_minor": 0,
  "metadata": {
    "colab": {
      "provenance": []
    },
    "kernelspec": {
      "name": "python3",
      "display_name": "Python 3"
    },
    "language_info": {
      "name": "python"
    }
  },
  "cells": [
    {
      "cell_type": "code",
      "execution_count": 1,
      "metadata": {
        "id": "dEmTcEm_hfR-"
      },
      "outputs": [],
      "source": [
        "import json\n",
        "import time\n",
        "import os\n",
        "from google.colab import drive, files\n"
      ]
    },
    {
      "cell_type": "code",
      "source": [
        "# Montar Google Drive en Colab\n",
        "drive.mount('/content/drive')"
      ],
      "metadata": {
        "colab": {
          "base_uri": "https://localhost:8080/"
        },
        "id": "hF8a2S1-hkBu",
        "outputId": "b9e4c32f-3170-46f2-8755-c3ebe9df8b30"
      },
      "execution_count": 2,
      "outputs": [
        {
          "output_type": "stream",
          "name": "stdout",
          "text": [
            "Mounted at /content/drive\n"
          ]
        }
      ]
    },
    {
      "cell_type": "code",
      "source": [
        "def load_json_file(file_path):\n",
        "    \"\"\"Carga un archivo JSON y maneja errores.\"\"\"\n",
        "    try:\n",
        "        with open(file_path, \"r\", encoding=\"utf-8\") as file:\n",
        "            return json.load(file)\n",
        "    except FileNotFoundError:\n",
        "        print(f\"Error: El archivo {file_path} no fue encontrado.\")\n",
        "        return None\n",
        "    except json.JSONDecodeError:\n",
        "        print(f\"Error: El archivo {file_path} no tiene un formato JSON válido.\")\n",
        "        return None\n",
        "\n",
        "def compute_total_cost(price_catalogue, sales_record):\n",
        "    \"\"\"Calcula el costo total de las ventas y maneja errores.\"\"\"\n",
        "    total_cost = 0.0\n",
        "    errors = []\n",
        "\n",
        "    for sale in sales_record:\n",
        "        product_name = sale.get(\"Product\")\n",
        "        quantity = sale.get(\"Quantity\")\n",
        "\n",
        "        if not product_name or not isinstance(quantity, (int, float)) or quantity <= 0:\n",
        "            errors.append(f\"Advertencia: Venta inválida encontrada: {sale}\")\n",
        "            continue\n",
        "\n",
        "        product_price = next((item[\"price\"] for item in price_catalogue if item[\"title\"] == product_name), None)\n",
        "\n",
        "        if product_price is None:\n",
        "            errors.append(f\"Advertencia: Producto '{product_name}' no encontrado en el catálogo.\")\n",
        "            continue\n",
        "\n",
        "        total_cost += float(product_price) * int(quantity)\n",
        "\n",
        "    return total_cost, errors\n",
        "\n",
        "def process_sales_files(sales_files, price_catalogue):\n",
        "    \"\"\"Procesa los archivos de ventas y calcula el total.\"\"\"\n",
        "    results = {}\n",
        "\n",
        "    for sales_file in sales_files:\n",
        "        sales_data = load_json_file(sales_file)\n",
        "\n",
        "        if sales_data is None:\n",
        "            print(f\"Error: No se pudo cargar {sales_file}.\")\n",
        "            continue\n",
        "\n",
        "        test_case = os.path.basename(sales_file).split(\".\")[0]\n",
        "        total_cost, errors = compute_total_cost(price_catalogue, sales_data)\n",
        "        results[test_case] = total_cost\n",
        "\n",
        "        print(f\"Total Sales for {test_case}: ${total_cost:.2f}\")\n",
        "        if errors:\n",
        "            print(f\"Errors in {test_case}:\")\n",
        "            for error in errors:\n",
        "                print(error)\n",
        "\n",
        "    return results\n",
        "\n",
        "def save_results(results, elapsed_time):\n",
        "    \"\"\"Guarda los resultados en un archivo de texto y lo descarga.\"\"\"\n",
        "    output_file = \"/content/drive/My Drive/Colab Notebooks/Results.txt\"\n",
        "    with open(output_file, \"w\", encoding=\"utf-8\") as file:\n",
        "        file.write(\"TOTAL\\n\")\n",
        "        for test_case, total in results.items():\n",
        "            file.write(f\"{test_case}\\t{total:.2f}\\n\")\n",
        "        file.write(f\"\\nExecution Time: {elapsed_time:.2f} seconds\\n\")\n",
        "\n",
        "    print(f\"Results saved in {output_file}\")\n",
        "    files.download(output_file)\n",
        "\n",
        "def main():\n",
        "    \"\"\"Función principal para ejecutar el procesamiento.\"\"\"\n",
        "    start_time = time.time()\n",
        "\n",
        "    base_folder = \"/content/drive/My Drive/Colab Notebooks\"\n",
        "    price_catalogue_file = os.path.join(base_folder, \"TC1.ProductList.json\")\n",
        "    sales_files = [\n",
        "        os.path.join(base_folder, \"TC1.Sales.json\"),\n",
        "        os.path.join(base_folder, \"TC2.Sales.json\"),\n",
        "        os.path.join(base_folder, \"TC3.Sales.json\"),\n",
        "    ]\n",
        "\n",
        "    # Cargar catálogo de productos\n",
        "    price_catalogue = load_json_file(price_catalogue_file)\n",
        "    if price_catalogue is None:\n",
        "        print(\"Error: No se pudo cargar el catálogo de productos.\")\n",
        "        return\n",
        "\n",
        "    # Procesar archivos de ventas\n",
        "    results = process_sales_files(sales_files, price_catalogue)\n",
        "\n",
        "    # Guardar resultados\n",
        "    elapsed_time = time.time() - start_time\n",
        "    save_results(results, elapsed_time)\n",
        "\n",
        "if __name__ == \"__main__\":\n",
        "    main()"
      ],
      "metadata": {
        "colab": {
          "base_uri": "https://localhost:8080/",
          "height": 225
        },
        "id": "sRStXeZOhlgX",
        "outputId": "024fdbbb-ccad-4884-ba1b-67de40f55df1"
      },
      "execution_count": 3,
      "outputs": [
        {
          "output_type": "stream",
          "name": "stdout",
          "text": [
            "Total Sales for TC1: $2481.86\n",
            "Total Sales for TC2: $169478.22\n",
            "Errors in TC2:\n",
            "Advertencia: Venta inválida encontrada: {'SALE_ID': 8, 'SALE_Date': '02/12/23', 'Product': 'Fresh blueberries', 'Quantity': -35}\n",
            "Advertencia: Venta inválida encontrada: {'SALE_ID': 10, 'SALE_Date': '02/12/23', 'Product': 'Green smoothie', 'Quantity': -123}\n",
            "Total Sales for TC3: $168145.36\n",
            "Errors in TC3:\n",
            "Advertencia: Producto 'Elotes' no encontrado en el catálogo.\n",
            "Advertencia: Venta inválida encontrada: {'SALE_ID': 8, 'SALE_Date': '02/12/23', 'Product': 'Fresh blueberries', 'Quantity': -35}\n",
            "Advertencia: Producto 'Frijoles' no encontrado en el catálogo.\n",
            "Advertencia: Venta inválida encontrada: {'SALE_ID': 10, 'SALE_Date': '02/12/23', 'Product': 'Green smoothie', 'Quantity': -123}\n",
            "Results saved in /content/drive/My Drive/Colab Notebooks/Results.txt\n"
          ]
        },
        {
          "output_type": "display_data",
          "data": {
            "text/plain": [
              "<IPython.core.display.Javascript object>"
            ],
            "application/javascript": [
              "\n",
              "    async function download(id, filename, size) {\n",
              "      if (!google.colab.kernel.accessAllowed) {\n",
              "        return;\n",
              "      }\n",
              "      const div = document.createElement('div');\n",
              "      const label = document.createElement('label');\n",
              "      label.textContent = `Downloading \"${filename}\": `;\n",
              "      div.appendChild(label);\n",
              "      const progress = document.createElement('progress');\n",
              "      progress.max = size;\n",
              "      div.appendChild(progress);\n",
              "      document.body.appendChild(div);\n",
              "\n",
              "      const buffers = [];\n",
              "      let downloaded = 0;\n",
              "\n",
              "      const channel = await google.colab.kernel.comms.open(id);\n",
              "      // Send a message to notify the kernel that we're ready.\n",
              "      channel.send({})\n",
              "\n",
              "      for await (const message of channel.messages) {\n",
              "        // Send a message to notify the kernel that we're ready.\n",
              "        channel.send({})\n",
              "        if (message.buffers) {\n",
              "          for (const buffer of message.buffers) {\n",
              "            buffers.push(buffer);\n",
              "            downloaded += buffer.byteLength;\n",
              "            progress.value = downloaded;\n",
              "          }\n",
              "        }\n",
              "      }\n",
              "      const blob = new Blob(buffers, {type: 'application/binary'});\n",
              "      const a = document.createElement('a');\n",
              "      a.href = window.URL.createObjectURL(blob);\n",
              "      a.download = filename;\n",
              "      div.appendChild(a);\n",
              "      a.click();\n",
              "      div.remove();\n",
              "    }\n",
              "  "
            ]
          },
          "metadata": {}
        },
        {
          "output_type": "display_data",
          "data": {
            "text/plain": [
              "<IPython.core.display.Javascript object>"
            ],
            "application/javascript": [
              "download(\"download_69fa5a82-0caf-4c90-8896-2243593a3dee\", \"Results.txt\", 76)"
            ]
          },
          "metadata": {}
        }
      ]
    },
    {
      "cell_type": "code",
      "source": [],
      "metadata": {
        "id": "ExTiuq9HiWxe"
      },
      "execution_count": null,
      "outputs": []
    }
  ]
}